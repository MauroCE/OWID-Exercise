{
 "cells": [
  {
   "cell_type": "code",
   "execution_count": 11,
   "id": "69e8f41b",
   "metadata": {},
   "outputs": [],
   "source": [
    "import pandas as pd\n",
    "import numpy as np"
   ]
  },
  {
   "cell_type": "markdown",
   "id": "b9910528",
   "metadata": {},
   "source": [
    "# Load Data"
   ]
  },
  {
   "cell_type": "markdown",
   "id": "846c4658",
   "metadata": {},
   "source": [
    "### South American Countries according to OWID"
   ]
  },
  {
   "cell_type": "code",
   "execution_count": 12,
   "id": "9f962bd0",
   "metadata": {},
   "outputs": [],
   "source": [
    "# According to Wikipedia, South Sandwich Islands are uninhabited, and South Georgia island has a very small,\n",
    "# non-permanent population. Additionally, this country does not appear in the WHO data, so I will exclude it.\n",
    "data = pd.read_csv(\"data/continents_owid.csv\")\n",
    "codes = data[data.Continent == \"South America\"].Code.values\n",
    "countries = data[data.Continent == \"South America\"].Entity.values\n",
    "countries = set(countries[countries != \"South Georgia and the South Sandwich Islands\"])"
   ]
  },
  {
   "cell_type": "markdown",
   "id": "f5e7abe4",
   "metadata": {},
   "source": [
    "### WHO Population Data"
   ]
  },
  {
   "cell_type": "code",
   "execution_count": 13,
   "id": "eb194a8d",
   "metadata": {},
   "outputs": [],
   "source": [
    "# Keep only relevant columns\n",
    "who_pop = pd.read_excel(\n",
    "    io=\"data/WPP2022_GEN_F01_DEMOGRAPHIC_INDICATORS_COMPACT_REV1.xlsx\",\n",
    "    sheet_name=\"Estimates\",\n",
    "    skiprows=16,\n",
    "    usecols=[\n",
    "    \"Region, subregion, country or area *\",\n",
    "    \"Female Population, as of 1 July (thousands)\",\n",
    "    \"Year\",\n",
    "    \"Female Deaths (thousands)\"]\n",
    ")\n",
    "# For ease of use\n",
    "who_pop.rename(\n",
    "    columns={\n",
    "        \"Region, subregion, country or area *\": \"Region\",\n",
    "        \"Female Population, as of 1 July (thousands)\": \"FemPop1k\",\n",
    "        \"Female Deaths (thousands)\": \"FemDeaths1k\"},\n",
    "    inplace=True\n",
    ")"
   ]
  },
  {
   "cell_type": "code",
   "execution_count": 14,
   "id": "edb0c22c",
   "metadata": {},
   "outputs": [],
   "source": [
    "# only consider the years included in the Google Form\n",
    "years = [1970, 1979, 1986, 2011, 2017]\n",
    "who_pop = who_pop[who_pop[\"Year\"].isin(years)]"
   ]
  },
  {
   "cell_type": "markdown",
   "id": "7ee172be",
   "metadata": {},
   "source": [
    "Most South American countries (according to OWID) are also in the WHO data, except\n",
    "\"South Georgia and the South Sandwich Islands\". A few countries have slightly different names, for instance:\n",
    " - \"Venezuela\" -> \"Venezuela (Bolivarian Republic of)\"\n",
    " - \"Bolivia\" -> \"Bolivia (Plurinational State of)\"\n",
    " - \"Falkland Islands\" -> \"Falkland Islands (Malvinas)\""
   ]
  },
  {
   "cell_type": "code",
   "execution_count": 15,
   "id": "2c734270",
   "metadata": {},
   "outputs": [],
   "source": [
    "# Alternative names for a few South American countries\n",
    "south_america = countries.union({\n",
    "    'Venezuela (Bolivarian Republic of)',\n",
    "    'Falkland Islands (Malvinas)',\n",
    "    'Bolivia (Plurinational State of)'})\n",
    "who_pop = who_pop[who_pop[\"Region\"].isin(south_america)]  # filtered for south america\n",
    "\n",
    "# Rename countries with alternative names (for simplicity)\n",
    "who_pop.loc[who_pop[\"Region\"] == \"Venezuela (Bolivarian Republic of)\", \"Region\"] = \"Venezuela\"\n",
    "who_pop.loc[who_pop[\"Region\"] == \"Falkland Islands (Malvinas)\", \"Region\"] = \"Falkland Islands\"\n",
    "who_pop.loc[who_pop[\"Region\"] == \"Bolivia (Plurinational State of)\", \"Region\"] = \"Bolivia\""
   ]
  },
  {
   "cell_type": "code",
   "execution_count": 16,
   "id": "e59be432",
   "metadata": {},
   "outputs": [],
   "source": [
    "# Convert Year -> Int, and populations to float (we will divide later)\n",
    "who_pop = who_pop.convert_dtypes(convert_string=False)"
   ]
  },
  {
   "cell_type": "code",
   "execution_count": 17,
   "id": "decfd626",
   "metadata": {},
   "outputs": [],
   "source": [
    "# Transform population/1000 and deaths/1000 into absolute values\n",
    "who_pop[\"FemPop1k\"] *= 1000\n",
    "who_pop[\"FemDeaths1k\"] *= 1000\n",
    "# Rename them accordingly\n",
    "who_pop.rename(columns={\"FemPop1k\": \"TotFemPop\", \"FemDeaths1k\": \"TotFemDeaths\"}, inplace=True)"
   ]
  },
  {
   "cell_type": "markdown",
   "id": "8cce7fb1",
   "metadata": {},
   "source": [
    "### WHO Mortality Data"
   ]
  },
  {
   "cell_type": "markdown",
   "id": "738ccb27",
   "metadata": {},
   "source": [
    "Notice that in the WHO mortality data we are missing three countries\n",
    "1. Bolivia\n",
    "2. Falkland Islands\n",
    "3. South Georgia and the South Sandwich Islands (which has no population anyway)\n",
    "\n",
    "I am not sure why Bolivia is missing. The last two, luckily, contribute very little to the overall South American population and data in general.\n",
    "\n",
    "The important column is `Number` since it gives the absolute number of female deaths due to maternal conditions."
   ]
  },
  {
   "cell_type": "code",
   "execution_count": 18,
   "id": "4d058b63",
   "metadata": {},
   "outputs": [],
   "source": [
    "mortality = pd.read_csv(\n",
    "    \"data/WHOMortalityDatabase_Map_Maternal conditions_28th March 2024 17_52.csv\", skiprows=6, index_col=False\n",
    ")\n",
    "# We only want to keep South American countries, for the years quote in the Google Form\n",
    "# For all age groups and for female\n",
    "mortality = mortality.query(\n",
    "    \"Year in @years & `Country Name` in @south_america & Sex == 'Female' & `Age Group` == '[All]'\"\n",
    ")\n",
    "# Keep only relevant columns\n",
    "mortality = mortality[\n",
    "    [\"Country Name\", \"Year\", \"Number\", \"Percentage of cause-specific deaths out of total deaths\",\n",
    "    \"Death rate per 100 000 population\"]]\n",
    "# Remove index, useless in this case\n",
    "mortality.reset_index(drop=True, inplace=True)\n",
    "# Rename venezuela\n",
    "mortality.loc[mortality[\"Country Name\"] == \"Venezuela (Bolivarian Republic of)\", \"Country Name\"] = \"Venezuela\""
   ]
  },
  {
   "cell_type": "markdown",
   "id": "979db5c7",
   "metadata": {},
   "source": [
    "# Computation"
   ]
  },
  {
   "cell_type": "markdown",
   "id": "a347b8f0",
   "metadata": {},
   "source": [
    "I am assuming that the task is to compute the following metric\n",
    "$$\n",
    "\\frac{\\text{# maternal deaths in South America}}{\\text{total female deaths in South America}} \\times 100\\,000\n",
    "$$\n",
    "for each year."
   ]
  },
  {
   "cell_type": "code",
   "execution_count": 19,
   "id": "31900364",
   "metadata": {},
   "outputs": [],
   "source": [
    "# Total South American population by year\n",
    "pop_by_year = who_pop.groupby(\"Year\")[\"TotFemPop\"].sum()"
   ]
  },
  {
   "cell_type": "code",
   "execution_count": 20,
   "id": "0fc68320",
   "metadata": {},
   "outputs": [],
   "source": [
    "def check(year):\n",
    "    # countries that have mortality data \n",
    "    countries_with_data = mortality[mortality[\"Year\"] == year][\"Country Name\"].values\n",
    "    # Filter out WHO data to compute population with data\n",
    "    df = who_pop[who_pop[\"Year\"] == year]\n",
    "    pop_with_data =  df[df[\"Region\"].isin(countries_with_data)].TotFemPop.sum()\n",
    "    return (pop_with_data / pop_by_year[year]) >= 0.8"
   ]
  },
  {
   "cell_type": "code",
   "execution_count": 21,
   "id": "251bb8ff",
   "metadata": {},
   "outputs": [
    {
     "name": "stdout",
     "output_type": "stream",
     "text": [
      "Year  1970 :  Not Enough Data\n",
      "Year  1979 :  Not Enough Data\n",
      "Year  1986 :  Enough Data\n",
      "Year  2011 :  Enough Data\n",
      "Year  2017 :  Enough Data\n"
     ]
    }
   ],
   "source": [
    "action = [\"Not Enough Data\", \"Enough Data\"]\n",
    "for ix, year in enumerate(years):\n",
    "    print(\"Year \", year, \": \", action[int(check(year))])"
   ]
  },
  {
   "cell_type": "markdown",
   "id": "d9e9901c",
   "metadata": {},
   "source": [
    "Therefore I only need to compute it for the latest three years: 1986, 2011, 2017. It makes sense that data reporting got better over time."
   ]
  },
  {
   "cell_type": "code",
   "execution_count": 22,
   "id": "fde09a75",
   "metadata": {},
   "outputs": [],
   "source": [
    "years_with_80pc = years[2:]"
   ]
  },
  {
   "cell_type": "markdown",
   "id": "7a5768a2",
   "metadata": {},
   "source": [
    "#### 1986"
   ]
  },
  {
   "cell_type": "code",
   "execution_count": 23,
   "id": "7ec5156e",
   "metadata": {},
   "outputs": [],
   "source": [
    "# (Absolute) number of deaths due to maternal conditions by year for South America\n",
    "n_deaths_mat_cond_by_year = mortality.query(\"Year in @years_with_80pc\").groupby(\"Year\")[\"Number\"].sum()"
   ]
  },
  {
   "cell_type": "code",
   "execution_count": 576,
   "id": "3f335b8a",
   "metadata": {},
   "outputs": [],
   "source": [
    "tot_deaths_by_year = who_pop[who_pop[\"Year\"].isin(years_with_80pc)].groupby(\"Year\")[\"TotFemDeaths\"].sum()"
   ]
  },
  {
   "cell_type": "code",
   "execution_count": 582,
   "id": "75a4b258",
   "metadata": {},
   "outputs": [],
   "source": [
    "crude_dr_100k = ((n_deaths_mat_cond_by_year / tot_deaths_by_year) * 100000).round(2)"
   ]
  },
  {
   "cell_type": "code",
   "execution_count": 583,
   "id": "1c6cd607",
   "metadata": {},
   "outputs": [
    {
     "data": {
      "text/plain": [
       "Year\n",
       "1986    395.89\n",
       "2011     313.4\n",
       "2017    273.09\n",
       "dtype: Float64"
      ]
     },
     "execution_count": 583,
     "metadata": {},
     "output_type": "execute_result"
    }
   ],
   "source": [
    "crude_dr_100k"
   ]
  }
 ],
 "metadata": {
  "kernelspec": {
   "display_name": "Python 3 (ipykernel)",
   "language": "python",
   "name": "python3"
  },
  "language_info": {
   "codemirror_mode": {
    "name": "ipython",
    "version": 3
   },
   "file_extension": ".py",
   "mimetype": "text/x-python",
   "name": "python",
   "nbconvert_exporter": "python",
   "pygments_lexer": "ipython3",
   "version": "3.11.5"
  }
 },
 "nbformat": 4,
 "nbformat_minor": 5
}
